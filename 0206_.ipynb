{
 "cells": [
  {
   "cell_type": "code",
   "execution_count": 3,
   "id": "9d2cfad9",
   "metadata": {},
   "outputs": [
    {
     "name": "stdout",
     "output_type": "stream",
     "text": [
      "['Dog', 'Cat', 'Parrot']\n"
     ]
    }
   ],
   "source": [
    "animal_list = ['dog', 'cat', 'parrot']\n",
    "for i in range(len(animal_list)): #index\n",
    "    C = list(animal_list[i])\n",
    "    C[0] = C[0].upper()\n",
    "    animal_list[i] = \"\".join(C)\n",
    "print(animal_list)"
   ]
  },
  {
   "cell_type": "code",
   "execution_count": 4,
   "id": "c3624ce9",
   "metadata": {},
   "outputs": [
    {
     "name": "stdout",
     "output_type": "stream",
     "text": [
      "dog\n",
      "cat\n",
      "parrot\n",
      "['dog', 'cat', 'parrot']\n"
     ]
    }
   ],
   "source": [
    "animal_list = ['dog', 'cat', 'parrot']\n",
    "for i in animal_list: #value\n",
    "    print(i)\n",
    "print(animal_list)"
   ]
  },
  {
   "cell_type": "code",
   "execution_count": 11,
   "id": "707ab688",
   "metadata": {},
   "outputs": [
    {
     "name": "stdout",
     "output_type": "stream",
     "text": [
      "['c', 't']\n",
      "['c', 'a', 't']\n"
     ]
    }
   ],
   "source": [
    "a = \"cat\"\n",
    "print(a.split(\"a\"))\n",
    "print(list(a))"
   ]
  },
  {
   "cell_type": "code",
   "execution_count": 14,
   "id": "345c4fd5",
   "metadata": {},
   "outputs": [
    {
     "name": "stdout",
     "output_type": "stream",
     "text": [
      "hi hello\n"
     ]
    }
   ],
   "source": [
    "print(+)"
   ]
  },
  {
   "cell_type": "code",
   "execution_count": 17,
   "id": "533656d8",
   "metadata": {},
   "outputs": [
    {
     "name": "stdout",
     "output_type": "stream",
     "text": [
      "3x1=3\n",
      "3x2=6\n",
      "3x3=9\n",
      "3x4=12\n",
      "3x5=15\n",
      "3x6=18\n",
      "3x7=21\n",
      "3x8=24\n",
      "3x9=27\n"
     ]
    }
   ],
   "source": [
    "for i in range(1,10):\n",
    "    print(\"3x\"+str(i)+\"=\"+str(3*i))"
   ]
  },
  {
   "cell_type": "code",
   "execution_count": 22,
   "id": "066fdf26",
   "metadata": {},
   "outputs": [
    {
     "name": "stdout",
     "output_type": "stream",
     "text": [
      "True\n"
     ]
    }
   ],
   "source": [
    "# ==(same), =(assign)\n",
    "a = 10\n",
    "print(a == 10)"
   ]
  },
  {
   "cell_type": "code",
   "execution_count": 25,
   "id": "cca9c5b0",
   "metadata": {},
   "outputs": [
    {
     "name": "stdout",
     "output_type": "stream",
     "text": [
      "합 : 55\n"
     ]
    }
   ],
   "source": [
    "second_num = 0\n",
    "for i in range(1, 11):\n",
    "    second_num = 5\n",
    "    second_num = second_num + i # 0 + 1 + ... + 10\n",
    "print(\"합 :\", second_num)"
   ]
  },
  {
   "cell_type": "code",
   "execution_count": 35,
   "id": "286a4186",
   "metadata": {},
   "outputs": [
    {
     "name": "stdout",
     "output_type": "stream",
     "text": [
      "2\n",
      "10\n",
      "12\n",
      "None\n"
     ]
    }
   ],
   "source": [
    "def print_even(num_list):\n",
    "    result = []\n",
    "    for i in num_list:\n",
    "        if i % 2 == 0:\n",
    "            print(i)\n",
    "#             return i\n",
    "#             result.append(i)\n",
    "#     return result\n",
    "        \n",
    "print(print_even([1, 3, 2, 10, 12, 11, 15]))"
   ]
  },
  {
   "cell_type": "code",
   "execution_count": 37,
   "id": "9b89976c",
   "metadata": {},
   "outputs": [
    {
     "name": "stdout",
     "output_type": "stream",
     "text": [
      "2\n",
      "10\n",
      "12\n"
     ]
    },
    {
     "data": {
      "text/plain": [
       "'print_even([1, 3, 2, 10, 12, 11, 15])'"
      ]
     },
     "execution_count": 37,
     "metadata": {},
     "output_type": "execute_result"
    }
   ],
   "source": [
    "def print_even(num_list):\n",
    "    result = []\n",
    "    for i in num_list:\n",
    "        if i % 2 == 0:\n",
    "            print(i)\n",
    "        \n",
    "print(print_even([1, 3, 2, 10, 12, 11, 15]))\n",
    "\"print_even([1, 3, 2, 10, 12, 11, 15])\""
   ]
  },
  {
   "cell_type": "code",
   "execution_count": 36,
   "id": "8a4e5449",
   "metadata": {},
   "outputs": [
    {
     "name": "stdout",
     "output_type": "stream",
     "text": [
      "hello\n"
     ]
    }
   ],
   "source": [
    "def sayhello():\n",
    "    print(\"Hello\")\n",
    "\n",
    "sayhello()"
   ]
  },
  {
   "cell_type": "code",
   "execution_count": 38,
   "id": "8d5f1fb9",
   "metadata": {},
   "outputs": [
    {
     "name": "stdout",
     "output_type": "stream",
     "text": [
      "hello\n",
      "<class 'str'>\n"
     ]
    }
   ],
   "source": [
    "def test():\n",
    "    print(\"hello\")\n",
    "    return \"hello\"\n",
    "\n",
    "print(type(test()))"
   ]
  },
  {
   "cell_type": "code",
   "execution_count": 42,
   "id": "fff3c8ae",
   "metadata": {},
   "outputs": [
    {
     "name": "stdout",
     "output_type": "stream",
     "text": [
      "왼쪽 : 100\n",
      "오른쪽 : 200\n"
     ]
    }
   ],
   "source": [
    "def my_print(a,b):\n",
    "    print(\"왼쪽 :\", a)\n",
    "    print(\"오른쪽 :\", b)\n",
    "my_print(100, 200)"
   ]
  }
 ],
 "metadata": {
  "kernelspec": {
   "display_name": "Python 3 (ipykernel)",
   "language": "python",
   "name": "python3"
  },
  "language_info": {
   "codemirror_mode": {
    "name": "ipython",
    "version": 3
   },
   "file_extension": ".py",
   "mimetype": "text/x-python",
   "name": "python",
   "nbconvert_exporter": "python",
   "pygments_lexer": "ipython3",
   "version": "3.9.7"
  }
 },
 "nbformat": 4,
 "nbformat_minor": 5
}
