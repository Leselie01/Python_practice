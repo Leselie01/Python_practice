{
 "cells": [
  {
   "cell_type": "code",
   "execution_count": 1,
   "metadata": {},
   "outputs": [
    {
     "name": "stdout",
     "output_type": "stream",
     "text": [
      "30\n"
     ]
    }
   ],
   "source": [
    "a = 10\n",
    "b = 20\n",
    "print(a+b)"
   ]
  },
  {
   "cell_type": "code",
   "execution_count": 21,
   "metadata": {},
   "outputs": [
    {
     "name": "stdout",
     "output_type": "stream",
     "text": [
      "com\n",
      "5\n"
     ]
    }
   ],
   "source": [
    "url = \"www.naver.com\"\n",
    "url_list = url.split(\".\")\n",
    "print(url_list[2])\n",
    "print(len(url.split(\".\")[1]))"
   ]
  },
  {
   "cell_type": "code",
   "execution_count": 26,
   "metadata": {},
   "outputs": [
    {
     "name": "stdout",
     "output_type": "stream",
     "text": [
      "Python\n",
      "python\n"
     ]
    }
   ],
   "source": [
    "lang = \"python\"\n",
    "lang_list = ['p','y','t','h','o','n']\n",
    "lang_list[0] = 'P'\n",
    "print(lang.replace('p','P'))\n",
    "lang[0] = 'P'"
   ]
  },
  {
   "cell_type": "code",
   "execution_count": 33,
   "metadata": {},
   "outputs": [
    {
     "name": "stdout",
     "output_type": "stream",
     "text": [
      "['a', 'b']\n",
      "ab\n"
     ]
    }
   ],
   "source": [
    "list1 = ['a','b']\n",
    "# str(list1) -> \"ab\"\n",
    "print(str(list1))\n",
    "str2 = \"['a', 'b']\"\n",
    "print(\"\".join(list1))"
   ]
  },
  {
   "cell_type": "code",
   "execution_count": 37,
   "metadata": {},
   "outputs": [
    {
     "name": "stdout",
     "output_type": "stream",
     "text": [
      "5969782550\n",
      "5969782550\n"
     ]
    }
   ],
   "source": [
    "stock = \"5,969,782,550\"\n",
    "stock_list = stock.split(\",\")\n",
    "result = \"\"\n",
    "for num in stock_list:\n",
    "    result += num\n",
    "print(result)\n",
    "print(stock_list[0]+stock_list[1]+stock_list[2]+stock_list[3])"
   ]
  },
  {
   "cell_type": "code",
   "execution_count": 41,
   "metadata": {},
   "outputs": [
    {
     "name": "stdout",
     "output_type": "stream",
     "text": [
      "886345345\n"
     ]
    }
   ],
   "source": [
    "exam = \"http://localhost:886345345/notebooks/1_python_lesson/0116_.ipynb\"\n",
    "print(exam.split(\":\")[2].split(\"/\")[0])"
   ]
  },
  {
   "cell_type": "code",
   "execution_count": 42,
   "metadata": {},
   "outputs": [
    {
     "name": "stdout",
     "output_type": "stream",
     "text": [
      "4\n"
     ]
    }
   ],
   "source": [
    "입력 = 4\n",
    "print(입력)"
   ]
  },
  {
   "cell_type": "code",
   "execution_count": 49,
   "metadata": {},
   "outputs": [
    {
     "name": "stdout",
     "output_type": "stream",
     "text": [
      "1 2\n",
      "3\n"
     ]
    }
   ],
   "source": [
    "a = input()\n",
    "#a1, a2 = a.split(\" \")\n",
    "a_list = a.split(\" \")\n",
    "print(int(a_list[0]) + int(a_list[1]))"
   ]
  },
  {
   "cell_type": "code",
   "execution_count": null,
   "metadata": {},
   "outputs": [],
   "source": [
    "a = input()\n",
    "list_a = a.split(\" \")\n",
    "add = int(list_a[0]) + int(list_a[1])\n",
    "sub = int(list_a[0]) - int(list_a[1])\n",
    "T = int(list_a[0]) * int(list_a[1])\n",
    "D = int(list_a[0]) / int(list_a[1])\n",
    "M = int(list_a[0]) % int(list_a[1])\n",
    "print(add)\n",
    "print(sub)\n",
    "print(T)\n",
    "print(int(D))\n",
    "print(M)\n"
   ]
  },
  {
   "cell_type": "code",
   "execution_count": 51,
   "metadata": {},
   "outputs": [
    {
     "name": "stdout",
     "output_type": "stream",
     "text": [
      "7 3\n",
      "10\n",
      "4\n",
      "21\n",
      "2\n",
      "1\n"
     ]
    }
   ],
   "source": [
    "a = input()\n",
    "a1 = int(a.split(\" \")[0])\n",
    "a2 = int(a.split(\" \")[1])\n",
    "add = a1 + a2\n",
    "sub = a1 - a2\n",
    "T = a1 * a2\n",
    "#int(D)\n",
    "D = a1 // a2\n",
    "M = a1 % a2\n",
    "print(add)\n",
    "print(sub)\n",
    "print(T)\n",
    "print(D)\n",
    "print(M)\n"
   ]
  }
 ],
 "metadata": {
  "kernelspec": {
   "display_name": "Python 3 (ipykernel)",
   "language": "python",
   "name": "python3"
  },
  "language_info": {
   "codemirror_mode": {
    "name": "ipython",
    "version": 3
   },
   "file_extension": ".py",
   "mimetype": "text/x-python",
   "name": "python",
   "nbconvert_exporter": "python",
   "pygments_lexer": "ipython3",
   "version": "3.9.7"
  }
 },
 "nbformat": 4,
 "nbformat_minor": 4
}
