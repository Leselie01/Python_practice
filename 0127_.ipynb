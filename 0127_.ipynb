{
 "cells": [
  {
   "cell_type": "code",
   "execution_count": 6,
   "metadata": {},
   "outputs": [
    {
     "name": "stdout",
     "output_type": "stream",
     "text": [
      "우편번호: 01011\n",
      "강북구\n"
     ]
    }
   ],
   "source": [
    "i = input(\"우편번호: \")\n",
    "if i[0:3] == '010' or i[0:3] =='011' or i[0:3] =='012':\n",
    "    print(\"강북구\")\n",
    "elif i[0:3] == '013' or i[0:3] =='014' or i[0:3] =='015':\n",
    "    print(\"도봉구\")\n",
    "elif i[0:3] == '016' or i[0:3] =='017' or i[0:3] =='018' or i[0:3] =='019':\n",
    "    print(\"노원구\")\n",
    "else:\n",
    "    print(\"오류\")"
   ]
  },
  {
   "cell_type": "code",
   "execution_count": null,
   "metadata": {},
   "outputs": [],
   "source": [
    "code = input(\"우편번호: \")[:3]\n",
    "if code in ['010','011','012']:\n",
    "    print(\"강북구\")\n",
    "elif\n",
    "else:"
   ]
  },
  {
   "cell_type": "code",
   "execution_count": 12,
   "metadata": {},
   "outputs": [
    {
     "name": "stdout",
     "output_type": "stream",
     "text": [
      "주민등록번호: 821010-1635214\n",
      "128\n",
      "-117\n",
      "<class 'int'>\n",
      "유효하지 않은 주민등록번호입니다.\n"
     ]
    }
   ],
   "source": [
    "J_num = input(\"주민등록번호: \")\n",
    "a = int(J_num[0]) * 2\n",
    "b = int(J_num[1]) * 3\n",
    "c = int(J_num[2]) * 4\n",
    "d = int(J_num[3]) * 5\n",
    "e = int(J_num[4]) * 6\n",
    "f = int(J_num[5]) * 7\n",
    "g = int(J_num[7]) * 8\n",
    "h = int(J_num[8]) * 9\n",
    "i = int(J_num[9]) * 2\n",
    "j = int(J_num[10]) * 3\n",
    "k = int(J_num[11]) * 4\n",
    "l = int(J_num[12]) * 5\n",
    "Step_1 = (a + b + c + d + e + f + g + h + i + j + k + l)\n",
    "print(Step_1)\n",
    "Step_2 = 11 - Step_1\n",
    "print(Step_2)\n",
    "print(type(Step_2))\n",
    "if int(J_num[13]) == Step_2:\n",
    "    print(J_num)\n",
    "else:\n",
    "    print(\"유효하지 않은 주민등록번호입니다.\")\n",
    "# 821010-1635214"
   ]
  },
  {
   "cell_type": "code",
   "execution_count": 11,
   "metadata": {},
   "outputs": [
    {
     "ename": "ValueError",
     "evalue": "invalid literal for int() with base 10: '821010-1635214'",
     "output_type": "error",
     "traceback": [
      "\u001b[1;31m---------------------------------------------------------------------------\u001b[0m",
      "\u001b[1;31mValueError\u001b[0m                                Traceback (most recent call last)",
      "\u001b[1;32m<ipython-input-11-28b49804fac1>\u001b[0m in \u001b[0;36m<module>\u001b[1;34m\u001b[0m\n\u001b[1;32m----> 1\u001b[1;33m \u001b[0mint\u001b[0m\u001b[1;33m(\u001b[0m\u001b[1;34m\"821010-1635214\"\u001b[0m\u001b[1;33m)\u001b[0m\u001b[1;33m\u001b[0m\u001b[1;33m\u001b[0m\u001b[0m\n\u001b[0m",
      "\u001b[1;31mValueError\u001b[0m: invalid literal for int() with base 10: '821010-1635214'"
     ]
    }
   ],
   "source": [
    "int(\"821010-1635214\")"
   ]
  },
  {
   "cell_type": "code",
   "execution_count": 16,
   "metadata": {},
   "outputs": [
    {
     "name": "stdout",
     "output_type": "stream",
     "text": [
      "주민등록번호: 821010-1635214\n",
      "128\n"
     ]
    }
   ],
   "source": [
    "def sum_result(part, side, size, result):\n",
    "    for idx in range(size):\n",
    "        result += int(part[idx])*side[idx]\n",
    "    return result\n",
    "J_num = input(\"주민등록번호: \")\n",
    "front = J_num.split('-')[0]\n",
    "back = J_num.split('-')[1]\n",
    "front_side = [2,3,4,5,6,7]\n",
    "back_side = [8,9,2,3,4,5]\n",
    "result = 0\n",
    "result = sum_result(front, front_side, len(front), result)\n",
    "result = sum_result(back, back_side, len(back)-1, result)\n",
    "print(result)"
   ]
  },
  {
   "cell_type": "code",
   "execution_count": 20,
   "metadata": {},
   "outputs": [
    {
     "name": "stdout",
     "output_type": "stream",
     "text": [
      "비트코인비트코인"
     ]
    }
   ],
   "source": [
    "def print_coin():\n",
    "    bitcoin = \"비트코인\"\n",
    "    return bitcoin\n",
    "for i in range(2):\n",
    "    print(print_coin(), end=\"\")"
   ]
  },
  {
   "cell_type": "code",
   "execution_count": 24,
   "metadata": {},
   "outputs": [
    {
     "name": "stdout",
     "output_type": "stream",
     "text": [
      "300\n"
     ]
    }
   ],
   "source": [
    "def print_coin():\n",
    "    bitcoin = 100\n",
    "    return bitcoin\n",
    "print(print_coin()+200)"
   ]
  },
  {
   "cell_type": "code",
   "execution_count": 27,
   "metadata": {},
   "outputs": [
    {
     "data": {
      "text/plain": [
       "'비트코인비트코인비트코인비트코인비트코인비트코인비트코인비트코인비트코인비트코인비트코인비트코인비트코인비트코인비트코인비트코인비트코인비트코인비트코인비트코인비트코인비트코인비트코인비트코인비트코인비트코인비트코인비트코인비트코인비트코인비트코인비트코인비트코인비트코인비트코인비트코인비트코인비트코인비트코인비트코인비트코인비트코인비트코인비트코인비트코인비트코인비트코인비트코인비트코인비트코인비트코인비트코인비트코인비트코인비트코인비트코인비트코인비트코인비트코인비트코인비트코인비트코인비트코인비트코인비트코인비트코인비트코인비트코인비트코인비트코인비트코인비트코인비트코인비트코인비트코인비트코인비트코인비트코인비트코인비트코인비트코인비트코인비트코인비트코인비트코인비트코인비트코인비트코인비트코인비트코인비트코인비트코인비트코인비트코인비트코인비트코인비트코인비트코인비트코인비트코인'"
      ]
     },
     "execution_count": 27,
     "metadata": {},
     "output_type": "execute_result"
    }
   ],
   "source": [
    "def print_coin():\n",
    "    bitcoin = \"비트코인\"\n",
    "    print(bitcoin)\n",
    "print_coin() * 100"
   ]
  },
  {
   "cell_type": "code",
   "execution_count": 26,
   "metadata": {},
   "outputs": [
    {
     "data": {
      "text/plain": [
       "'hellohellohellohellohellohellohellohellohellohello'"
      ]
     },
     "execution_count": 26,
     "metadata": {},
     "output_type": "execute_result"
    }
   ],
   "source": [
    "\"hello\"*10"
   ]
  }
 ],
 "metadata": {
  "kernelspec": {
   "display_name": "Python 3 (ipykernel)",
   "language": "python",
   "name": "python3"
  },
  "language_info": {
   "codemirror_mode": {
    "name": "ipython",
    "version": 3
   },
   "file_extension": ".py",
   "mimetype": "text/x-python",
   "name": "python",
   "nbconvert_exporter": "python",
   "pygments_lexer": "ipython3",
   "version": "3.9.7"
  }
 },
 "nbformat": 4,
 "nbformat_minor": 4
}
