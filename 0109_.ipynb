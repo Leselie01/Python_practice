{
 "cells": [
  {
   "cell_type": "code",
   "execution_count": 5,
   "metadata": {},
   "outputs": [
    {
     "name": "stdout",
     "output_type": "stream",
     "text": [
      "1590893254064\n",
      "1590893254096\n"
     ]
    }
   ],
   "source": [
    "a = 257\n",
    "b = 257\n",
    "print(id(a))\n",
    "print(id(b))"
   ]
  },
  {
   "cell_type": "code",
   "execution_count": 8,
   "metadata": {},
   "outputs": [
    {
     "name": "stdout",
     "output_type": "stream",
     "text": [
      "31\n"
     ]
    }
   ],
   "source": [
    "a = 3\n",
    "a *= 10\n",
    "a += 1\n",
    "print(a)"
   ]
  },
  {
   "cell_type": "code",
   "execution_count": 9,
   "metadata": {},
   "outputs": [
    {
     "name": "stdout",
     "output_type": "stream",
     "text": [
      "Hello\n"
     ]
    }
   ],
   "source": [
    "a = True\n",
    "if a:\n",
    "    print(\"Hello\")\n",
    "else:\n",
    "    print(\"No\")"
   ]
  },
  {
   "cell_type": "code",
   "execution_count": null,
   "metadata": {},
   "outputs": [],
   "source": [
    "a = 20\n",
    "if a > 10:\n",
    "    if a < 100:\n",
    "        print(a)\n",
    "    else:\n",
    "        print(\"No\")\n",
    "else:\n",
    "    print(\"NoNo\")"
   ]
  },
  {
   "cell_type": "code",
   "execution_count": null,
   "metadata": {},
   "outputs": [],
   "source": [
    "score = int(input(\"성적을 입력하시오: \"))\n",
    "\n",
    "if score >= 90:\n",
    "    print(\"학점 A\")\n",
    "elif score >= 80 and score < 90:\n",
    "    print(\"학점 B\")\n",
    "elif score >= 70 :\n",
    "\tprint(\"학점 C\")\n",
    "elif score >= 60 :\n",
    "\tprint(\"학점 D\")\n",
    "else :\n",
    "\tprint(\"학점 F\");\n"
   ]
  },
  {
   "cell_type": "code",
   "execution_count": 10,
   "metadata": {},
   "outputs": [
    {
     "name": "stdout",
     "output_type": "stream",
     "text": [
      "False\n"
     ]
    }
   ],
   "source": [
    "a = 100\n",
    "b = \"100\"\n",
    "print(a==b)"
   ]
  },
  {
   "cell_type": "code",
   "execution_count": 17,
   "metadata": {},
   "outputs": [
    {
     "name": "stdout",
     "output_type": "stream",
     "text": [
      "Apple\n"
     ]
    }
   ],
   "source": [
    "string = \"apple\"\n",
    "string = string.replace('a','A')\n",
    "string[0] = 'A'\n",
    "print(string)"
   ]
  },
  {
   "cell_type": "code",
   "execution_count": 16,
   "metadata": {},
   "outputs": [
    {
     "name": "stdout",
     "output_type": "stream",
     "text": [
      "(1, 2)\n"
     ]
    }
   ],
   "source": [
    "tup = (1,2,3)\n",
    "print(tup[0:2])"
   ]
  },
  {
   "cell_type": "code",
   "execution_count": 24,
   "metadata": {},
   "outputs": [
    {
     "name": "stdout",
     "output_type": "stream",
     "text": [
      "32\n",
      "56\n",
      "64\n",
      "72\n",
      "12\n",
      "37\n",
      "98\n",
      "77\n",
      "59\n",
      "69\n",
      "100\n",
      "11\n"
     ]
    }
   ],
   "source": [
    "scores  = [32, 56, 64, 72, 12, 37, 98, 77, 59, 69]\n",
    "scores.append(100)\n",
    "scores.append(11)\n",
    "\n",
    "for i in range(len(scores)):\n",
    "    print(scores[i])"
   ]
  },
  {
   "cell_type": "code",
   "execution_count": 26,
   "metadata": {},
   "outputs": [
    {
     "name": "stdout",
     "output_type": "stream",
     "text": [
      "[10]\n"
     ]
    }
   ],
   "source": [
    "list1 = list()\t\t       # 공백 리스트 생성\n",
    "list1.append(10)\n",
    "#list1 = []\n",
    "print(list1)"
   ]
  },
  {
   "cell_type": "code",
   "execution_count": 27,
   "metadata": {},
   "outputs": [
    {
     "name": "stdout",
     "output_type": "stream",
     "text": [
      "['H', 'e', 'l', 'l', 'o']\n"
     ]
    }
   ],
   "source": [
    "list2 = list(\"Hello\")\t\t# 문자 H, e, l, l, o를 요소로 가지는 리스트 생성\n",
    "# str -> int\n",
    "# float -> str\n",
    "# str -> list\n",
    "print(list2)"
   ]
  },
  {
   "cell_type": "code",
   "execution_count": 28,
   "metadata": {},
   "outputs": [
    {
     "name": "stdout",
     "output_type": "stream",
     "text": [
      "[0, 1, 2, 3, 4]\n"
     ]
    }
   ],
   "source": [
    "list3 = list(range(0, 5))\n",
    "print(list3)"
   ]
  },
  {
   "cell_type": "code",
   "execution_count": 29,
   "metadata": {},
   "outputs": [
    {
     "ename": "IndexError",
     "evalue": "list index out of range",
     "output_type": "error",
     "traceback": [
      "\u001b[1;31m---------------------------------------------------------------------------\u001b[0m",
      "\u001b[1;31mIndexError\u001b[0m                                Traceback (most recent call last)",
      "\u001b[1;32m<ipython-input-29-48cfda863378>\u001b[0m in \u001b[0;36m<module>\u001b[1;34m\u001b[0m\n\u001b[0;32m      1\u001b[0m \u001b[0mshopping_list\u001b[0m \u001b[1;33m=\u001b[0m \u001b[1;33m[\u001b[0m \u001b[1;34m\"두부\"\u001b[0m\u001b[1;33m,\u001b[0m \u001b[1;34m\"양배추\"\u001b[0m\u001b[1;33m,\u001b[0m \u001b[1;34m\"딸기\"\u001b[0m \u001b[1;33m]\u001b[0m\u001b[1;33m\u001b[0m\u001b[1;33m\u001b[0m\u001b[0m\n\u001b[1;32m----> 2\u001b[1;33m \u001b[0mshopping_list\u001b[0m\u001b[1;33m[\u001b[0m\u001b[1;36m4\u001b[0m\u001b[1;33m]\u001b[0m\u001b[1;33m\u001b[0m\u001b[1;33m\u001b[0m\u001b[0m\n\u001b[0m",
      "\u001b[1;31mIndexError\u001b[0m: list index out of range"
     ]
    }
   ],
   "source": [
    "shopping_list = [ \"두부\", \"양배추\", \"딸기\" ]\n",
    "shopping_list[]"
   ]
  },
  {
   "cell_type": "code",
   "execution_count": 32,
   "metadata": {},
   "outputs": [
    {
     "name": "stdout",
     "output_type": "stream",
     "text": [
      "[0, 1, 4]\n",
      "[16, 25, 36, 49]\n",
      "[0, 1, 4, 9, 16, 25, 36, 49]\n"
     ]
    }
   ],
   "source": [
    "squares = [0, 1, 4, 9, 16, 25, 36, 49]\n",
    "print(squares[:3])\n",
    "print(squares[4:])\n",
    "print(squares[:])"
   ]
  },
  {
   "cell_type": "code",
   "execution_count": 33,
   "metadata": {},
   "outputs": [
    {
     "name": "stdout",
     "output_type": "stream",
     "text": [
      "슈퍼맨\n"
     ]
    }
   ],
   "source": [
    "marvel_heroes = [ \"스파이더맨\", \"헐크\",\"아이언맨\" ]\n",
    "dc_heroes = [ \"슈퍼맨\", \"배트맨\", \"원더우먼\" ]\n",
    "heroes = marvel_heroes + dc_heroes\n",
    "print(heroes[3])"
   ]
  },
  {
   "cell_type": "code",
   "execution_count": 34,
   "metadata": {},
   "outputs": [
    {
     "name": "stdout",
     "output_type": "stream",
     "text": [
      "HelloHelloHello\n",
      "[1, 2, 3, 1, 2, 3, 1, 2, 3]\n"
     ]
    }
   ],
   "source": [
    "print(\"Hello\"*3)\n",
    "values = [ 1,2,3 ] * 3\n",
    "print(values)"
   ]
  },
  {
   "cell_type": "code",
   "execution_count": 36,
   "metadata": {},
   "outputs": [
    {
     "name": "stdout",
     "output_type": "stream",
     "text": [
      "['두부', '양배추', '딸기', '계란', '바나나']\n",
      "['두부', '바나나', '양배추', '딸기']\n"
     ]
    }
   ],
   "source": [
    "shopping_list = [\"두부\", \"양배추\", \"딸기\"]\n",
    "shopping_list.append(\"계란\")\n",
    "\n",
    "shopping_list.append(\"바나나\") # 값을 오른쪽에 계속 넣어준다.\n",
    "print(shopping_list)\n",
    "shopping_list = [\"두부\", \"양배추\", \"딸기\"]\n",
    "shopping_list.insert(1, \"바나나\") # 내가 원하는 곳에 값을 넣어준다.\n",
    "print(shopping_list)\n"
   ]
  },
  {
   "cell_type": "code",
   "execution_count": 38,
   "metadata": {},
   "outputs": [
    {
     "name": "stdout",
     "output_type": "stream",
     "text": [
      "['스파이더맨', '헐크', '아이언맨', '배트맨']\n",
      "['스파이더맨', '헐크', '배트맨']\n"
     ]
    }
   ],
   "source": [
    "heroes = [ \"스파이더맨\", \"슈퍼맨\", \"헐크\", \"아이언맨\", \"배트맨\" ]\n",
    "heroes.pop(1) # index 정보로 지워준다.\n",
    "print(heroes)\n",
    "heroes.remove(\"아이언맨\") # value 정보로 지워준다.\n",
    "print(heroes)"
   ]
  },
  {
   "cell_type": "code",
   "execution_count": 45,
   "metadata": {},
   "outputs": [
    {
     "name": "stdout",
     "output_type": "stream",
     "text": [
      "슈퍼맨이 빠졌습니다\n",
      "['스파이더맨', '헐크', '아이언맨', '배트맨']\n"
     ]
    }
   ],
   "source": [
    "heroes = [ \"스파이더맨\", \"슈퍼맨\", \"헐크\", \"아이언맨\", \"배트맨\" ]\n",
    "print(heroes.pop(1)+\"이 빠졌습니다\")\n",
    "del heroes[1]\n",
    "print(heroes)"
   ]
  },
  {
   "cell_type": "code",
   "execution_count": 46,
   "metadata": {},
   "outputs": [
    {
     "name": "stdout",
     "output_type": "stream",
     "text": [
      "4\n"
     ]
    }
   ],
   "source": [
    "heroes = [ \"스파이더맨\", \"슈퍼맨\", \"헐크\", \"아이언맨\", \"배트맨\" ]\n",
    "#heroes.remove(\"배트맨\")\n",
    "heroes.pop(heores.index(\"배트맨\"))"
   ]
  },
  {
   "cell_type": "code",
   "execution_count": 61,
   "metadata": {},
   "outputs": [
    {
     "name": "stdout",
     "output_type": "stream",
     "text": [
      "[3, 2, 1, 5, 4]\n",
      "[1, 2, 3, 4, 5]\n",
      "1\n",
      "5\n",
      "3.0\n"
     ]
    }
   ],
   "source": [
    "# li = [ 3, 2, 1, 5, 4 ]\n",
    "# li.sort()\n",
    "li = [ 3, 2, 1, 5, 4 ]\n",
    "s_li = sorted(li)\n",
    "\n",
    "print(li)\n",
    "print(s_li)\n",
    "print(min(li))\n",
    "print(max(li))\n",
    "print(sum(li)/len(li))"
   ]
  },
  {
   "cell_type": "code",
   "execution_count": 54,
   "metadata": {},
   "outputs": [
    {
     "name": "stdout",
     "output_type": "stream",
     "text": [
      "['A', 'picture', 'is', 'worth', 'a', 'thousand', 'words.']\n",
      "5678\n"
     ]
    }
   ],
   "source": [
    "a = \"A picture is worth a thousand words.\"\n",
    "print(a.split(\" \"))\n",
    "phone = \"010-1234-5678\"\n",
    "print(phone.split(\"-\")[2])"
   ]
  },
  {
   "cell_type": "code",
   "execution_count": 56,
   "metadata": {},
   "outputs": [
    {
     "name": "stdout",
     "output_type": "stream",
     "text": [
      "[5, 4, 3, 2, 1]\n"
     ]
    }
   ],
   "source": [
    "li = sorted([5, 2, 3, 1, 4], reverse=True)\n",
    "print(li)"
   ]
  }
 ],
 "metadata": {
  "kernelspec": {
   "display_name": "Python 3 (ipykernel)",
   "language": "python",
   "name": "python3"
  },
  "language_info": {
   "codemirror_mode": {
    "name": "ipython",
    "version": 3
   },
   "file_extension": ".py",
   "mimetype": "text/x-python",
   "name": "python",
   "nbconvert_exporter": "python",
   "pygments_lexer": "ipython3",
   "version": "3.9.7"
  }
 },
 "nbformat": 4,
 "nbformat_minor": 4
}
